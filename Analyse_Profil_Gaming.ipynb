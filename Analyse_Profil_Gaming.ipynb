{
 "cells": [
  {
   "cell_type": "code",
   "execution_count": 1,
   "metadata": {},
   "outputs": [],
   "source": [
    "import pandas as pd\n",
    "from pareto import pareto_optimal_options\n",
    "from promethee import preference_degree, promethee1, promethee2\n",
    "from electre import concordance_matrix, not_veto_matrix, electre\n",
    "from weighted_sum import weighted_sum, normalize_data, get_ranking"
   ]
  },
  {
   "cell_type": "markdown",
   "metadata": {},
   "source": [
    "# Open Data"
   ]
  },
  {
   "cell_type": "code",
   "execution_count": 37,
   "metadata": {},
   "outputs": [
    {
     "data": {
      "text/html": [
       "<div>\n",
       "<style scoped>\n",
       "    .dataframe tbody tr th:only-of-type {\n",
       "        vertical-align: middle;\n",
       "    }\n",
       "\n",
       "    .dataframe tbody tr th {\n",
       "        vertical-align: top;\n",
       "    }\n",
       "\n",
       "    .dataframe thead th {\n",
       "        text-align: right;\n",
       "    }\n",
       "</style>\n",
       "<table border=\"1\" class=\"dataframe\">\n",
       "  <thead>\n",
       "    <tr style=\"text-align: right;\">\n",
       "      <th></th>\n",
       "      <th>model</th>\n",
       "      <th>processor_score</th>\n",
       "      <th>ram_gb</th>\n",
       "      <th>ram_type_score</th>\n",
       "      <th>disk</th>\n",
       "      <th>graphic_card_gb</th>\n",
       "      <th>weight</th>\n",
       "      <th>display_size</th>\n",
       "      <th>warranty</th>\n",
       "      <th>old_price</th>\n",
       "    </tr>\n",
       "  </thead>\n",
       "  <tbody>\n",
       "    <tr>\n",
       "      <th>0</th>\n",
       "      <td>APPLE-2020-1</td>\n",
       "      <td>6</td>\n",
       "      <td>8</td>\n",
       "      <td>1</td>\n",
       "      <td>256</td>\n",
       "      <td>0</td>\n",
       "      <td>2</td>\n",
       "      <td>13.3</td>\n",
       "      <td>1</td>\n",
       "      <td>929</td>\n",
       "    </tr>\n",
       "    <tr>\n",
       "      <th>1</th>\n",
       "      <td>MSI-Modern</td>\n",
       "      <td>3</td>\n",
       "      <td>8</td>\n",
       "      <td>1</td>\n",
       "      <td>512</td>\n",
       "      <td>0</td>\n",
       "      <td>2</td>\n",
       "      <td>14.0</td>\n",
       "      <td>0</td>\n",
       "      <td>620</td>\n",
       "    </tr>\n",
       "    <tr>\n",
       "      <th>2</th>\n",
       "      <td>APPLE-MacBook-1</td>\n",
       "      <td>6</td>\n",
       "      <td>16</td>\n",
       "      <td>1</td>\n",
       "      <td>512</td>\n",
       "      <td>0</td>\n",
       "      <td>2</td>\n",
       "      <td>13.3</td>\n",
       "      <td>1</td>\n",
       "      <td>1639</td>\n",
       "    </tr>\n",
       "    <tr>\n",
       "      <th>3</th>\n",
       "      <td>ASUS-TUF</td>\n",
       "      <td>2</td>\n",
       "      <td>16</td>\n",
       "      <td>1</td>\n",
       "      <td>512</td>\n",
       "      <td>6</td>\n",
       "      <td>3</td>\n",
       "      <td>15.6</td>\n",
       "      <td>1</td>\n",
       "      <td>1300</td>\n",
       "    </tr>\n",
       "    <tr>\n",
       "      <th>4</th>\n",
       "      <td>APPLE-2020-2</td>\n",
       "      <td>6</td>\n",
       "      <td>8</td>\n",
       "      <td>1</td>\n",
       "      <td>512</td>\n",
       "      <td>0</td>\n",
       "      <td>2</td>\n",
       "      <td>13.3</td>\n",
       "      <td>1</td>\n",
       "      <td>1429</td>\n",
       "    </tr>\n",
       "    <tr>\n",
       "      <th>5</th>\n",
       "      <td>HP-Ryzen</td>\n",
       "      <td>1</td>\n",
       "      <td>8</td>\n",
       "      <td>1</td>\n",
       "      <td>512</td>\n",
       "      <td>0</td>\n",
       "      <td>1</td>\n",
       "      <td>14.0</td>\n",
       "      <td>0</td>\n",
       "      <td>530</td>\n",
       "    </tr>\n",
       "    <tr>\n",
       "      <th>6</th>\n",
       "      <td>APPLE-MacBook-2</td>\n",
       "      <td>6</td>\n",
       "      <td>16</td>\n",
       "      <td>1</td>\n",
       "      <td>256</td>\n",
       "      <td>0</td>\n",
       "      <td>2</td>\n",
       "      <td>13.3</td>\n",
       "      <td>1</td>\n",
       "      <td>1499</td>\n",
       "    </tr>\n",
       "    <tr>\n",
       "      <th>7</th>\n",
       "      <td>MSI-Alpha</td>\n",
       "      <td>5</td>\n",
       "      <td>16</td>\n",
       "      <td>1</td>\n",
       "      <td>1024</td>\n",
       "      <td>8</td>\n",
       "      <td>2</td>\n",
       "      <td>15.6</td>\n",
       "      <td>1</td>\n",
       "      <td>1460</td>\n",
       "    </tr>\n",
       "    <tr>\n",
       "      <th>8</th>\n",
       "      <td>ASUS-ROG-1</td>\n",
       "      <td>5</td>\n",
       "      <td>8</td>\n",
       "      <td>2</td>\n",
       "      <td>1024</td>\n",
       "      <td>4</td>\n",
       "      <td>2</td>\n",
       "      <td>14.0</td>\n",
       "      <td>0</td>\n",
       "      <td>1240</td>\n",
       "    </tr>\n",
       "    <tr>\n",
       "      <th>9</th>\n",
       "      <td>APPLE-MacBook-3</td>\n",
       "      <td>6</td>\n",
       "      <td>8</td>\n",
       "      <td>1</td>\n",
       "      <td>1024</td>\n",
       "      <td>0</td>\n",
       "      <td>2</td>\n",
       "      <td>13.3</td>\n",
       "      <td>1</td>\n",
       "      <td>1639</td>\n",
       "    </tr>\n",
       "    <tr>\n",
       "      <th>10</th>\n",
       "      <td>APPLE-MacBook-4</td>\n",
       "      <td>6</td>\n",
       "      <td>16</td>\n",
       "      <td>1</td>\n",
       "      <td>1024</td>\n",
       "      <td>0</td>\n",
       "      <td>2</td>\n",
       "      <td>13.3</td>\n",
       "      <td>1</td>\n",
       "      <td>1839</td>\n",
       "    </tr>\n",
       "    <tr>\n",
       "      <th>11</th>\n",
       "      <td>HP-Pavilion</td>\n",
       "      <td>5</td>\n",
       "      <td>16</td>\n",
       "      <td>1</td>\n",
       "      <td>512</td>\n",
       "      <td>4</td>\n",
       "      <td>2</td>\n",
       "      <td>15.6</td>\n",
       "      <td>1</td>\n",
       "      <td>1032</td>\n",
       "    </tr>\n",
       "    <tr>\n",
       "      <th>12</th>\n",
       "      <td>acer-Predator</td>\n",
       "      <td>4</td>\n",
       "      <td>16</td>\n",
       "      <td>1</td>\n",
       "      <td>512</td>\n",
       "      <td>6</td>\n",
       "      <td>2</td>\n",
       "      <td>15.6</td>\n",
       "      <td>1</td>\n",
       "      <td>1410</td>\n",
       "    </tr>\n",
       "    <tr>\n",
       "      <th>13</th>\n",
       "      <td>ASUS-ROG-2</td>\n",
       "      <td>2</td>\n",
       "      <td>8</td>\n",
       "      <td>1</td>\n",
       "      <td>512</td>\n",
       "      <td>4</td>\n",
       "      <td>2</td>\n",
       "      <td>15.6</td>\n",
       "      <td>0</td>\n",
       "      <td>1020</td>\n",
       "    </tr>\n",
       "  </tbody>\n",
       "</table>\n",
       "</div>"
      ],
      "text/plain": [
       "              model  processor_score  ram_gb  ram_type_score  disk  \\\n",
       "0      APPLE-2020-1                6       8               1   256   \n",
       "1        MSI-Modern                3       8               1   512   \n",
       "2   APPLE-MacBook-1                6      16               1   512   \n",
       "3          ASUS-TUF                2      16               1   512   \n",
       "4      APPLE-2020-2                6       8               1   512   \n",
       "5          HP-Ryzen                1       8               1   512   \n",
       "6   APPLE-MacBook-2                6      16               1   256   \n",
       "7         MSI-Alpha                5      16               1  1024   \n",
       "8        ASUS-ROG-1                5       8               2  1024   \n",
       "9   APPLE-MacBook-3                6       8               1  1024   \n",
       "10  APPLE-MacBook-4                6      16               1  1024   \n",
       "11      HP-Pavilion                5      16               1   512   \n",
       "12    acer-Predator                4      16               1   512   \n",
       "13       ASUS-ROG-2                2       8               1   512   \n",
       "\n",
       "    graphic_card_gb  weight  display_size  warranty  old_price  \n",
       "0                 0       2          13.3         1        929  \n",
       "1                 0       2          14.0         0        620  \n",
       "2                 0       2          13.3         1       1639  \n",
       "3                 6       3          15.6         1       1300  \n",
       "4                 0       2          13.3         1       1429  \n",
       "5                 0       1          14.0         0        530  \n",
       "6                 0       2          13.3         1       1499  \n",
       "7                 8       2          15.6         1       1460  \n",
       "8                 4       2          14.0         0       1240  \n",
       "9                 0       2          13.3         1       1639  \n",
       "10                0       2          13.3         1       1839  \n",
       "11                4       2          15.6         1       1032  \n",
       "12                6       2          15.6         1       1410  \n",
       "13                4       2          15.6         0       1020  "
      ]
     },
     "execution_count": 37,
     "metadata": {},
     "output_type": "execute_result"
    }
   ],
   "source": [
    "df = pd.read_csv(\"./final_data.csv\").drop(columns=['Unnamed: 0'])\n",
    "df"
   ]
  },
  {
   "cell_type": "code",
   "execution_count": 38,
   "metadata": {},
   "outputs": [
    {
     "data": {
      "text/html": [
       "<div>\n",
       "<style scoped>\n",
       "    .dataframe tbody tr th:only-of-type {\n",
       "        vertical-align: middle;\n",
       "    }\n",
       "\n",
       "    .dataframe tbody tr th {\n",
       "        vertical-align: top;\n",
       "    }\n",
       "\n",
       "    .dataframe thead th {\n",
       "        text-align: right;\n",
       "    }\n",
       "</style>\n",
       "<table border=\"1\" class=\"dataframe\">\n",
       "  <thead>\n",
       "    <tr style=\"text-align: right;\">\n",
       "      <th></th>\n",
       "      <th>processor_score</th>\n",
       "      <th>ram_gb</th>\n",
       "      <th>ram_type_score</th>\n",
       "      <th>disk</th>\n",
       "      <th>graphic_card_gb</th>\n",
       "      <th>weight</th>\n",
       "      <th>display_size</th>\n",
       "      <th>warranty</th>\n",
       "      <th>old_price</th>\n",
       "    </tr>\n",
       "  </thead>\n",
       "  <tbody>\n",
       "    <tr>\n",
       "      <th>count</th>\n",
       "      <td>14.000000</td>\n",
       "      <td>14.000000</td>\n",
       "      <td>14.000000</td>\n",
       "      <td>14.000000</td>\n",
       "      <td>14.000000</td>\n",
       "      <td>14.000000</td>\n",
       "      <td>14.000000</td>\n",
       "      <td>14.000000</td>\n",
       "      <td>14.000000</td>\n",
       "    </tr>\n",
       "    <tr>\n",
       "      <th>mean</th>\n",
       "      <td>4.500000</td>\n",
       "      <td>12.000000</td>\n",
       "      <td>1.071429</td>\n",
       "      <td>621.714286</td>\n",
       "      <td>2.285714</td>\n",
       "      <td>2.000000</td>\n",
       "      <td>14.271429</td>\n",
       "      <td>0.714286</td>\n",
       "      <td>1256.142857</td>\n",
       "    </tr>\n",
       "    <tr>\n",
       "      <th>std</th>\n",
       "      <td>1.786703</td>\n",
       "      <td>4.150996</td>\n",
       "      <td>0.267261</td>\n",
       "      <td>278.888847</td>\n",
       "      <td>2.920184</td>\n",
       "      <td>0.392232</td>\n",
       "      <td>1.063686</td>\n",
       "      <td>0.468807</td>\n",
       "      <td>385.720277</td>\n",
       "    </tr>\n",
       "    <tr>\n",
       "      <th>min</th>\n",
       "      <td>1.000000</td>\n",
       "      <td>8.000000</td>\n",
       "      <td>1.000000</td>\n",
       "      <td>256.000000</td>\n",
       "      <td>0.000000</td>\n",
       "      <td>1.000000</td>\n",
       "      <td>13.300000</td>\n",
       "      <td>0.000000</td>\n",
       "      <td>530.000000</td>\n",
       "    </tr>\n",
       "    <tr>\n",
       "      <th>25%</th>\n",
       "      <td>3.250000</td>\n",
       "      <td>8.000000</td>\n",
       "      <td>1.000000</td>\n",
       "      <td>512.000000</td>\n",
       "      <td>0.000000</td>\n",
       "      <td>2.000000</td>\n",
       "      <td>13.300000</td>\n",
       "      <td>0.250000</td>\n",
       "      <td>1023.000000</td>\n",
       "    </tr>\n",
       "    <tr>\n",
       "      <th>50%</th>\n",
       "      <td>5.000000</td>\n",
       "      <td>12.000000</td>\n",
       "      <td>1.000000</td>\n",
       "      <td>512.000000</td>\n",
       "      <td>0.000000</td>\n",
       "      <td>2.000000</td>\n",
       "      <td>14.000000</td>\n",
       "      <td>1.000000</td>\n",
       "      <td>1355.000000</td>\n",
       "    </tr>\n",
       "    <tr>\n",
       "      <th>75%</th>\n",
       "      <td>6.000000</td>\n",
       "      <td>16.000000</td>\n",
       "      <td>1.000000</td>\n",
       "      <td>896.000000</td>\n",
       "      <td>4.000000</td>\n",
       "      <td>2.000000</td>\n",
       "      <td>15.600000</td>\n",
       "      <td>1.000000</td>\n",
       "      <td>1489.250000</td>\n",
       "    </tr>\n",
       "    <tr>\n",
       "      <th>max</th>\n",
       "      <td>6.000000</td>\n",
       "      <td>16.000000</td>\n",
       "      <td>2.000000</td>\n",
       "      <td>1024.000000</td>\n",
       "      <td>8.000000</td>\n",
       "      <td>3.000000</td>\n",
       "      <td>15.600000</td>\n",
       "      <td>1.000000</td>\n",
       "      <td>1839.000000</td>\n",
       "    </tr>\n",
       "  </tbody>\n",
       "</table>\n",
       "</div>"
      ],
      "text/plain": [
       "       processor_score     ram_gb  ram_type_score         disk  \\\n",
       "count        14.000000  14.000000       14.000000    14.000000   \n",
       "mean          4.500000  12.000000        1.071429   621.714286   \n",
       "std           1.786703   4.150996        0.267261   278.888847   \n",
       "min           1.000000   8.000000        1.000000   256.000000   \n",
       "25%           3.250000   8.000000        1.000000   512.000000   \n",
       "50%           5.000000  12.000000        1.000000   512.000000   \n",
       "75%           6.000000  16.000000        1.000000   896.000000   \n",
       "max           6.000000  16.000000        2.000000  1024.000000   \n",
       "\n",
       "       graphic_card_gb     weight  display_size   warranty    old_price  \n",
       "count        14.000000  14.000000     14.000000  14.000000    14.000000  \n",
       "mean          2.285714   2.000000     14.271429   0.714286  1256.142857  \n",
       "std           2.920184   0.392232      1.063686   0.468807   385.720277  \n",
       "min           0.000000   1.000000     13.300000   0.000000   530.000000  \n",
       "25%           0.000000   2.000000     13.300000   0.250000  1023.000000  \n",
       "50%           0.000000   2.000000     14.000000   1.000000  1355.000000  \n",
       "75%           4.000000   2.000000     15.600000   1.000000  1489.250000  \n",
       "max           8.000000   3.000000     15.600000   1.000000  1839.000000  "
      ]
     },
     "execution_count": 38,
     "metadata": {},
     "output_type": "execute_result"
    }
   ],
   "source": [
    "df.describe()"
   ]
  },
  {
   "cell_type": "code",
   "execution_count": 39,
   "metadata": {},
   "outputs": [],
   "source": [
    "directions = {'processor_score': 'max', 'ram_gb': 'max', 'ram_type_score': 'max', 'disk': 'max',\n",
    " 'graphic_card_gb': 'max', 'weight': 'min', 'display_size': 'max', 'warranty': 'max', 'old_price': 'min'}\n",
    "weights = {'processor_score': 0.05, 'ram_gb': 0.05, 'ram_type_score': 0.05, 'disk': 0.05,\n",
    " 'graphic_card_gb': 0.3, 'weight': 0.05, 'display_size': 0.1, 'warranty': 0.05, 'old_price': 0.3}\n",
    "threshold = {'processor_score': 4, 'ram_gb': 8, 'ram_type_score': 1, 'disk': 500,\n",
    " 'graphic_card_gb': 2, 'weight': 1, 'display_size': 1, 'warranty': 1, 'old_price': 200}\n",
    "veto = {'processor_score': 5, 'ram_gb': 8, 'ram_type_score': 1, 'disk': 700,\n",
    " 'graphic_card_gb': 4, 'weight': 1, 'display_size': 1.5, 'warranty': 1, 'old_price': 400}\n",
    "s = 0.8"
   ]
  },
  {
   "cell_type": "markdown",
   "metadata": {},
   "source": [
    "# Pareto"
   ]
  },
  {
   "cell_type": "code",
   "execution_count": 40,
   "metadata": {},
   "outputs": [
    {
     "name": "stdout",
     "output_type": "stream",
     "text": [
      "Pareto Optimal Rows:\n",
      "['APPLE-2020-1', 'MSI-Modern', 'APPLE-MacBook-1', 'ASUS-TUF', 'APPLE-2020-2', 'HP-Ryzen', 'APPLE-MacBook-2', 'MSI-Alpha', 'ASUS-ROG-1', 'APPLE-MacBook-3', 'APPLE-MacBook-4', 'HP-Pavilion', 'acer-Predator', 'ASUS-ROG-2']\n",
      "Weak Pareto Optimal Rows:\n",
      "['APPLE-2020-1', 'MSI-Modern', 'APPLE-MacBook-1', 'ASUS-TUF', 'APPLE-2020-2', 'HP-Ryzen', 'APPLE-MacBook-2', 'MSI-Alpha', 'ASUS-ROG-1', 'APPLE-MacBook-3', 'APPLE-MacBook-4', 'HP-Pavilion', 'acer-Predator', 'ASUS-ROG-2']\n"
     ]
    }
   ],
   "source": [
    "pareto_optimal_rows, weak_pareto_optimal_rows = pareto_optimal_options(df, directions)\n",
    "print(\"Pareto Optimal Rows:\")\n",
    "print(pareto_optimal_rows)\n",
    "print(\"Weak Pareto Optimal Rows:\")\n",
    "print(weak_pareto_optimal_rows)"
   ]
  },
  {
   "cell_type": "markdown",
   "metadata": {},
   "source": [
    "# Weighted Sum"
   ]
  },
  {
   "cell_type": "code",
   "execution_count": 41,
   "metadata": {},
   "outputs": [
    {
     "name": "stdout",
     "output_type": "stream",
     "text": [
      "[-0.01644385026737967, 0.02147501688422403, -0.1124968169085816, 0.22519607843137254, -0.11436847466259231, 0.047101449275362306, -0.09707792207792207, 0.3518601986249046, 0.13271514930082706, -0.12916348357524826, -0.12499999999999994, 0.26661701044053987, 0.24498599439775903, 0.139367201426025]\n",
      "['MSI-Alpha', 'HP-Pavilion', 'acer-Predator', 'ASUS-TUF', 'ASUS-ROG-2', 'ASUS-ROG-1', 'HP-Ryzen', 'MSI-Modern', 'APPLE-2020-1', 'APPLE-MacBook-2', 'APPLE-MacBook-1', 'APPLE-2020-2', 'APPLE-MacBook-4', 'APPLE-MacBook-3']\n"
     ]
    }
   ],
   "source": [
    "normalized_data = normalize_data(df)\n",
    "weighted_sum_data = weighted_sum(normalized_data, weights, directions)\n",
    "print(weighted_sum_data)\n",
    "print(get_ranking(df, weighted_sum_data))"
   ]
  },
  {
   "cell_type": "markdown",
   "metadata": {},
   "source": [
    "# Promethee"
   ]
  },
  {
   "cell_type": "code",
   "execution_count": 42,
   "metadata": {},
   "outputs": [],
   "source": [
    "pref_matrix_example = preference_degree(df, directions, weights, threshold)\n",
    "phi_plus, phi_minus,  phi_plus_ranking, phi_minus_ranking = \\\n",
    "    promethee1(pref_matrix_example, df)\n",
    "phi_net, phi_net_ranking = promethee2(phi_plus, phi_minus, df)"
   ]
  },
  {
   "cell_type": "markdown",
   "metadata": {},
   "source": [
    "### Promethee 1"
   ]
  },
  {
   "cell_type": "code",
   "execution_count": 43,
   "metadata": {},
   "outputs": [
    {
     "name": "stdout",
     "output_type": "stream",
     "text": [
      "Phi Plus:\n",
      "[0.2835595874713522, 0.22798399486276716, 0.3215458492487905, 2.069592150773353, 0.27863351158645283, 0.5443247129681911, 0.3219604660045836, 2.611568213925887, 1.4934718991153775, 0.2784625159154571, 0.3219833333333333, 1.714787337939128, 2.1112097978321764, 1.4411748474884025]\n",
      "Phi Minus:\n",
      "[1.3115323208334717, 1.629445885785144, 1.272942290275794, 0.5305500891265598, 1.314160968656237, 1.6643427536231885, 1.271577584393441, 0.09415966386554621, 1.0839469807685922, 1.3164256236091274, 1.2756549971767361, 0.2414458110516934, 0.1539324420677362, 0.8601408072319838]\n",
      "Phi Plus Ranking:\n",
      "['MSI-Alpha', 'acer-Predator', 'ASUS-TUF', 'HP-Pavilion', 'ASUS-ROG-1', 'ASUS-ROG-2', 'HP-Ryzen', 'APPLE-MacBook-4', 'APPLE-MacBook-2', 'APPLE-MacBook-1', 'APPLE-2020-1', 'APPLE-2020-2', 'APPLE-MacBook-3', 'MSI-Modern']\n",
      "Phi Minus Ranking:\n",
      "['MSI-Alpha', 'acer-Predator', 'HP-Pavilion', 'ASUS-TUF', 'ASUS-ROG-2', 'ASUS-ROG-1', 'APPLE-MacBook-2', 'APPLE-MacBook-1', 'APPLE-MacBook-4', 'APPLE-2020-1', 'APPLE-2020-2', 'APPLE-MacBook-3', 'MSI-Modern', 'HP-Ryzen']\n"
     ]
    }
   ],
   "source": [
    "print(\"Phi Plus:\")\n",
    "print(phi_plus)\n",
    "print(\"Phi Minus:\")\n",
    "print(phi_minus)\n",
    "print(\"Phi Plus Ranking:\")\n",
    "print(phi_plus_ranking)\n",
    "print(\"Phi Minus Ranking:\")\n",
    "print(phi_minus_ranking)"
   ]
  },
  {
   "cell_type": "markdown",
   "metadata": {},
   "source": [
    "### Promethee 2"
   ]
  },
  {
   "cell_type": "code",
   "execution_count": 45,
   "metadata": {},
   "outputs": [
    {
     "name": "stdout",
     "output_type": "stream",
     "text": [
      "Phi Net:\n",
      "[-1.0279727333621196, -1.4014618909223768, -0.9513964410270036, 1.5390420616467932, -1.035527457069784, -1.1200180406549975, -0.9496171183888573, 2.5174085500603405, 0.4095249183467853, -1.0379631076936704, -0.9536716638434029, 1.4733415268874346, 1.9572773557644403, 0.5810340402564187]\n",
      "Phi Net Ranking:\n",
      "['MSI-Alpha', 'acer-Predator', 'ASUS-TUF', 'HP-Pavilion', 'ASUS-ROG-2', 'ASUS-ROG-1', 'APPLE-MacBook-2', 'APPLE-MacBook-1', 'APPLE-MacBook-4', 'APPLE-2020-1', 'APPLE-2020-2', 'APPLE-MacBook-3', 'HP-Ryzen', 'MSI-Modern']\n"
     ]
    }
   ],
   "source": [
    "print(\"Phi Net:\")\n",
    "print(phi_net)\n",
    "print(\"Phi Net Ranking:\")\n",
    "print(phi_net_ranking)"
   ]
  },
  {
   "cell_type": "markdown",
   "metadata": {},
   "source": [
    "# Electre"
   ]
  },
  {
   "cell_type": "markdown",
   "metadata": {},
   "source": [
    "### Electre IV"
   ]
  },
  {
   "cell_type": "code",
   "execution_count": 46,
   "metadata": {},
   "outputs": [
    {
     "name": "stdout",
     "output_type": "stream",
     "text": [
      "['APPLE-2020-1', 'ASUS-TUF', 'HP-Ryzen', 'MSI-Alpha', 'ASUS-ROG-1', 'HP-Pavilion', 'ASUS-ROG-2']\n"
     ]
    }
   ],
   "source": [
    "concordance_matrix_data = concordance_matrix(df, directions, weights, threshold, 'electre_iv')\n",
    "veto_matrix = not_veto_matrix(df, directions, veto)\n",
    "print(electre(df, veto_matrix, concordance_matrix_data, s))"
   ]
  },
  {
   "cell_type": "markdown",
   "metadata": {},
   "source": [
    "### Electre IS"
   ]
  },
  {
   "cell_type": "code",
   "execution_count": 50,
   "metadata": {},
   "outputs": [
    {
     "name": "stdout",
     "output_type": "stream",
     "text": [
      "['ASUS-ROG-1']\n"
     ]
    }
   ],
   "source": [
    "s = 0.9\n",
    "concordance_matrix_data = concordance_matrix(df, directions, weights, threshold, 'electre_is')\n",
    "veto_matrix = not_veto_matrix(df, directions, veto)\n",
    "print(electre(df, veto_matrix, concordance_matrix_data, s))"
   ]
  }
 ],
 "metadata": {
  "kernelspec": {
   "display_name": "Python 3.9.13 64-bit (microsoft store)",
   "language": "python",
   "name": "python3"
  },
  "language_info": {
   "codemirror_mode": {
    "name": "ipython",
    "version": 3
   },
   "file_extension": ".py",
   "mimetype": "text/x-python",
   "name": "python",
   "nbconvert_exporter": "python",
   "pygments_lexer": "ipython3",
   "version": "3.10.11"
  },
  "orig_nbformat": 4,
  "vscode": {
   "interpreter": {
    "hash": "af16f5a6d4b5c7b0a5c561ae5d528cd2e61193f10b07017e477a95c8ee5d5d82"
   }
  }
 },
 "nbformat": 4,
 "nbformat_minor": 2
}
