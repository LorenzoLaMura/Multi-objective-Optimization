{
 "cells": [
  {
   "cell_type": "code",
   "execution_count": 50,
   "metadata": {},
   "outputs": [],
   "source": [
    "import pandas as pd\n",
    "from pareto import pareto_optimal_options\n",
    "from promethee import preference_degree, promethee1, promethee2\n",
    "from electre import concordance_matrix, not_veto_matrix, electre\n",
    "from weighted_sum import weighted_sum, normalize_data, get_ranking"
   ]
  },
  {
   "cell_type": "markdown",
   "metadata": {},
   "source": [
    "# Open Data"
   ]
  },
  {
   "cell_type": "code",
   "execution_count": 51,
   "metadata": {},
   "outputs": [
    {
     "data": {
      "text/html": [
       "<div>\n",
       "<style scoped>\n",
       "    .dataframe tbody tr th:only-of-type {\n",
       "        vertical-align: middle;\n",
       "    }\n",
       "\n",
       "    .dataframe tbody tr th {\n",
       "        vertical-align: top;\n",
       "    }\n",
       "\n",
       "    .dataframe thead th {\n",
       "        text-align: right;\n",
       "    }\n",
       "</style>\n",
       "<table border=\"1\" class=\"dataframe\">\n",
       "  <thead>\n",
       "    <tr style=\"text-align: right;\">\n",
       "      <th></th>\n",
       "      <th>model</th>\n",
       "      <th>processor_score</th>\n",
       "      <th>ram_gb</th>\n",
       "      <th>ram_type_score</th>\n",
       "      <th>disk</th>\n",
       "      <th>graphic_card_gb</th>\n",
       "      <th>weight</th>\n",
       "      <th>display_size</th>\n",
       "      <th>warranty</th>\n",
       "      <th>old_price</th>\n",
       "    </tr>\n",
       "  </thead>\n",
       "  <tbody>\n",
       "    <tr>\n",
       "      <th>0</th>\n",
       "      <td>APPLE-2020-1</td>\n",
       "      <td>6</td>\n",
       "      <td>8</td>\n",
       "      <td>1</td>\n",
       "      <td>256</td>\n",
       "      <td>0</td>\n",
       "      <td>2</td>\n",
       "      <td>13.3</td>\n",
       "      <td>1</td>\n",
       "      <td>929</td>\n",
       "    </tr>\n",
       "    <tr>\n",
       "      <th>1</th>\n",
       "      <td>MSI-Modern</td>\n",
       "      <td>3</td>\n",
       "      <td>8</td>\n",
       "      <td>1</td>\n",
       "      <td>512</td>\n",
       "      <td>0</td>\n",
       "      <td>2</td>\n",
       "      <td>14.0</td>\n",
       "      <td>0</td>\n",
       "      <td>620</td>\n",
       "    </tr>\n",
       "    <tr>\n",
       "      <th>2</th>\n",
       "      <td>APPLE-MacBook-1</td>\n",
       "      <td>6</td>\n",
       "      <td>16</td>\n",
       "      <td>1</td>\n",
       "      <td>512</td>\n",
       "      <td>0</td>\n",
       "      <td>2</td>\n",
       "      <td>13.3</td>\n",
       "      <td>1</td>\n",
       "      <td>1639</td>\n",
       "    </tr>\n",
       "    <tr>\n",
       "      <th>3</th>\n",
       "      <td>ASUS-TUF</td>\n",
       "      <td>2</td>\n",
       "      <td>16</td>\n",
       "      <td>1</td>\n",
       "      <td>512</td>\n",
       "      <td>6</td>\n",
       "      <td>3</td>\n",
       "      <td>15.6</td>\n",
       "      <td>1</td>\n",
       "      <td>1300</td>\n",
       "    </tr>\n",
       "    <tr>\n",
       "      <th>4</th>\n",
       "      <td>APPLE-2020-2</td>\n",
       "      <td>6</td>\n",
       "      <td>8</td>\n",
       "      <td>1</td>\n",
       "      <td>512</td>\n",
       "      <td>0</td>\n",
       "      <td>2</td>\n",
       "      <td>13.3</td>\n",
       "      <td>1</td>\n",
       "      <td>1429</td>\n",
       "    </tr>\n",
       "    <tr>\n",
       "      <th>5</th>\n",
       "      <td>HP-Ryzen</td>\n",
       "      <td>1</td>\n",
       "      <td>8</td>\n",
       "      <td>1</td>\n",
       "      <td>512</td>\n",
       "      <td>0</td>\n",
       "      <td>1</td>\n",
       "      <td>14.0</td>\n",
       "      <td>0</td>\n",
       "      <td>530</td>\n",
       "    </tr>\n",
       "    <tr>\n",
       "      <th>6</th>\n",
       "      <td>APPLE-MacBook-2</td>\n",
       "      <td>6</td>\n",
       "      <td>16</td>\n",
       "      <td>1</td>\n",
       "      <td>256</td>\n",
       "      <td>0</td>\n",
       "      <td>2</td>\n",
       "      <td>13.3</td>\n",
       "      <td>1</td>\n",
       "      <td>1499</td>\n",
       "    </tr>\n",
       "    <tr>\n",
       "      <th>7</th>\n",
       "      <td>MSI-Alpha</td>\n",
       "      <td>5</td>\n",
       "      <td>16</td>\n",
       "      <td>1</td>\n",
       "      <td>1024</td>\n",
       "      <td>8</td>\n",
       "      <td>2</td>\n",
       "      <td>15.6</td>\n",
       "      <td>1</td>\n",
       "      <td>1460</td>\n",
       "    </tr>\n",
       "    <tr>\n",
       "      <th>8</th>\n",
       "      <td>ASUS-ROG-1</td>\n",
       "      <td>5</td>\n",
       "      <td>8</td>\n",
       "      <td>2</td>\n",
       "      <td>1024</td>\n",
       "      <td>4</td>\n",
       "      <td>2</td>\n",
       "      <td>14.0</td>\n",
       "      <td>0</td>\n",
       "      <td>1240</td>\n",
       "    </tr>\n",
       "    <tr>\n",
       "      <th>9</th>\n",
       "      <td>APPLE-MacBook-3</td>\n",
       "      <td>6</td>\n",
       "      <td>8</td>\n",
       "      <td>1</td>\n",
       "      <td>1024</td>\n",
       "      <td>0</td>\n",
       "      <td>2</td>\n",
       "      <td>13.3</td>\n",
       "      <td>1</td>\n",
       "      <td>1639</td>\n",
       "    </tr>\n",
       "    <tr>\n",
       "      <th>10</th>\n",
       "      <td>APPLE-MacBook-4</td>\n",
       "      <td>6</td>\n",
       "      <td>16</td>\n",
       "      <td>1</td>\n",
       "      <td>1024</td>\n",
       "      <td>0</td>\n",
       "      <td>2</td>\n",
       "      <td>13.3</td>\n",
       "      <td>1</td>\n",
       "      <td>1839</td>\n",
       "    </tr>\n",
       "    <tr>\n",
       "      <th>11</th>\n",
       "      <td>HP-Pavilion</td>\n",
       "      <td>5</td>\n",
       "      <td>16</td>\n",
       "      <td>1</td>\n",
       "      <td>512</td>\n",
       "      <td>4</td>\n",
       "      <td>2</td>\n",
       "      <td>15.6</td>\n",
       "      <td>1</td>\n",
       "      <td>1032</td>\n",
       "    </tr>\n",
       "    <tr>\n",
       "      <th>12</th>\n",
       "      <td>acer-Predator</td>\n",
       "      <td>4</td>\n",
       "      <td>16</td>\n",
       "      <td>1</td>\n",
       "      <td>512</td>\n",
       "      <td>6</td>\n",
       "      <td>2</td>\n",
       "      <td>15.6</td>\n",
       "      <td>1</td>\n",
       "      <td>1410</td>\n",
       "    </tr>\n",
       "    <tr>\n",
       "      <th>13</th>\n",
       "      <td>ASUS-ROG-2</td>\n",
       "      <td>2</td>\n",
       "      <td>8</td>\n",
       "      <td>1</td>\n",
       "      <td>512</td>\n",
       "      <td>4</td>\n",
       "      <td>2</td>\n",
       "      <td>15.6</td>\n",
       "      <td>0</td>\n",
       "      <td>1020</td>\n",
       "    </tr>\n",
       "  </tbody>\n",
       "</table>\n",
       "</div>"
      ],
      "text/plain": [
       "              model  processor_score  ram_gb  ram_type_score  disk  \\\n",
       "0      APPLE-2020-1                6       8               1   256   \n",
       "1        MSI-Modern                3       8               1   512   \n",
       "2   APPLE-MacBook-1                6      16               1   512   \n",
       "3          ASUS-TUF                2      16               1   512   \n",
       "4      APPLE-2020-2                6       8               1   512   \n",
       "5          HP-Ryzen                1       8               1   512   \n",
       "6   APPLE-MacBook-2                6      16               1   256   \n",
       "7         MSI-Alpha                5      16               1  1024   \n",
       "8        ASUS-ROG-1                5       8               2  1024   \n",
       "9   APPLE-MacBook-3                6       8               1  1024   \n",
       "10  APPLE-MacBook-4                6      16               1  1024   \n",
       "11      HP-Pavilion                5      16               1   512   \n",
       "12    acer-Predator                4      16               1   512   \n",
       "13       ASUS-ROG-2                2       8               1   512   \n",
       "\n",
       "    graphic_card_gb  weight  display_size  warranty  old_price  \n",
       "0                 0       2          13.3         1        929  \n",
       "1                 0       2          14.0         0        620  \n",
       "2                 0       2          13.3         1       1639  \n",
       "3                 6       3          15.6         1       1300  \n",
       "4                 0       2          13.3         1       1429  \n",
       "5                 0       1          14.0         0        530  \n",
       "6                 0       2          13.3         1       1499  \n",
       "7                 8       2          15.6         1       1460  \n",
       "8                 4       2          14.0         0       1240  \n",
       "9                 0       2          13.3         1       1639  \n",
       "10                0       2          13.3         1       1839  \n",
       "11                4       2          15.6         1       1032  \n",
       "12                6       2          15.6         1       1410  \n",
       "13                4       2          15.6         0       1020  "
      ]
     },
     "execution_count": 51,
     "metadata": {},
     "output_type": "execute_result"
    }
   ],
   "source": [
    "df = pd.read_csv(\"./final_data.csv\").drop(columns=['Unnamed: 0'])\n",
    "df"
   ]
  },
  {
   "cell_type": "code",
   "execution_count": 52,
   "metadata": {},
   "outputs": [
    {
     "data": {
      "text/html": [
       "<div>\n",
       "<style scoped>\n",
       "    .dataframe tbody tr th:only-of-type {\n",
       "        vertical-align: middle;\n",
       "    }\n",
       "\n",
       "    .dataframe tbody tr th {\n",
       "        vertical-align: top;\n",
       "    }\n",
       "\n",
       "    .dataframe thead th {\n",
       "        text-align: right;\n",
       "    }\n",
       "</style>\n",
       "<table border=\"1\" class=\"dataframe\">\n",
       "  <thead>\n",
       "    <tr style=\"text-align: right;\">\n",
       "      <th></th>\n",
       "      <th>processor_score</th>\n",
       "      <th>ram_gb</th>\n",
       "      <th>ram_type_score</th>\n",
       "      <th>disk</th>\n",
       "      <th>graphic_card_gb</th>\n",
       "      <th>weight</th>\n",
       "      <th>display_size</th>\n",
       "      <th>warranty</th>\n",
       "      <th>old_price</th>\n",
       "    </tr>\n",
       "  </thead>\n",
       "  <tbody>\n",
       "    <tr>\n",
       "      <th>count</th>\n",
       "      <td>14.000000</td>\n",
       "      <td>14.000000</td>\n",
       "      <td>14.000000</td>\n",
       "      <td>14.000000</td>\n",
       "      <td>14.000000</td>\n",
       "      <td>14.000000</td>\n",
       "      <td>14.000000</td>\n",
       "      <td>14.000000</td>\n",
       "      <td>14.000000</td>\n",
       "    </tr>\n",
       "    <tr>\n",
       "      <th>mean</th>\n",
       "      <td>4.500000</td>\n",
       "      <td>12.000000</td>\n",
       "      <td>1.071429</td>\n",
       "      <td>621.714286</td>\n",
       "      <td>2.285714</td>\n",
       "      <td>2.000000</td>\n",
       "      <td>14.271429</td>\n",
       "      <td>0.714286</td>\n",
       "      <td>1256.142857</td>\n",
       "    </tr>\n",
       "    <tr>\n",
       "      <th>std</th>\n",
       "      <td>1.786703</td>\n",
       "      <td>4.150996</td>\n",
       "      <td>0.267261</td>\n",
       "      <td>278.888847</td>\n",
       "      <td>2.920184</td>\n",
       "      <td>0.392232</td>\n",
       "      <td>1.063686</td>\n",
       "      <td>0.468807</td>\n",
       "      <td>385.720277</td>\n",
       "    </tr>\n",
       "    <tr>\n",
       "      <th>min</th>\n",
       "      <td>1.000000</td>\n",
       "      <td>8.000000</td>\n",
       "      <td>1.000000</td>\n",
       "      <td>256.000000</td>\n",
       "      <td>0.000000</td>\n",
       "      <td>1.000000</td>\n",
       "      <td>13.300000</td>\n",
       "      <td>0.000000</td>\n",
       "      <td>530.000000</td>\n",
       "    </tr>\n",
       "    <tr>\n",
       "      <th>25%</th>\n",
       "      <td>3.250000</td>\n",
       "      <td>8.000000</td>\n",
       "      <td>1.000000</td>\n",
       "      <td>512.000000</td>\n",
       "      <td>0.000000</td>\n",
       "      <td>2.000000</td>\n",
       "      <td>13.300000</td>\n",
       "      <td>0.250000</td>\n",
       "      <td>1023.000000</td>\n",
       "    </tr>\n",
       "    <tr>\n",
       "      <th>50%</th>\n",
       "      <td>5.000000</td>\n",
       "      <td>12.000000</td>\n",
       "      <td>1.000000</td>\n",
       "      <td>512.000000</td>\n",
       "      <td>0.000000</td>\n",
       "      <td>2.000000</td>\n",
       "      <td>14.000000</td>\n",
       "      <td>1.000000</td>\n",
       "      <td>1355.000000</td>\n",
       "    </tr>\n",
       "    <tr>\n",
       "      <th>75%</th>\n",
       "      <td>6.000000</td>\n",
       "      <td>16.000000</td>\n",
       "      <td>1.000000</td>\n",
       "      <td>896.000000</td>\n",
       "      <td>4.000000</td>\n",
       "      <td>2.000000</td>\n",
       "      <td>15.600000</td>\n",
       "      <td>1.000000</td>\n",
       "      <td>1489.250000</td>\n",
       "    </tr>\n",
       "    <tr>\n",
       "      <th>max</th>\n",
       "      <td>6.000000</td>\n",
       "      <td>16.000000</td>\n",
       "      <td>2.000000</td>\n",
       "      <td>1024.000000</td>\n",
       "      <td>8.000000</td>\n",
       "      <td>3.000000</td>\n",
       "      <td>15.600000</td>\n",
       "      <td>1.000000</td>\n",
       "      <td>1839.000000</td>\n",
       "    </tr>\n",
       "  </tbody>\n",
       "</table>\n",
       "</div>"
      ],
      "text/plain": [
       "       processor_score     ram_gb  ram_type_score         disk  \\\n",
       "count        14.000000  14.000000       14.000000    14.000000   \n",
       "mean          4.500000  12.000000        1.071429   621.714286   \n",
       "std           1.786703   4.150996        0.267261   278.888847   \n",
       "min           1.000000   8.000000        1.000000   256.000000   \n",
       "25%           3.250000   8.000000        1.000000   512.000000   \n",
       "50%           5.000000  12.000000        1.000000   512.000000   \n",
       "75%           6.000000  16.000000        1.000000   896.000000   \n",
       "max           6.000000  16.000000        2.000000  1024.000000   \n",
       "\n",
       "       graphic_card_gb     weight  display_size   warranty    old_price  \n",
       "count        14.000000  14.000000     14.000000  14.000000    14.000000  \n",
       "mean          2.285714   2.000000     14.271429   0.714286  1256.142857  \n",
       "std           2.920184   0.392232      1.063686   0.468807   385.720277  \n",
       "min           0.000000   1.000000     13.300000   0.000000   530.000000  \n",
       "25%           0.000000   2.000000     13.300000   0.250000  1023.000000  \n",
       "50%           0.000000   2.000000     14.000000   1.000000  1355.000000  \n",
       "75%           4.000000   2.000000     15.600000   1.000000  1489.250000  \n",
       "max           8.000000   3.000000     15.600000   1.000000  1839.000000  "
      ]
     },
     "execution_count": 52,
     "metadata": {},
     "output_type": "execute_result"
    }
   ],
   "source": [
    "df.describe()"
   ]
  },
  {
   "cell_type": "code",
   "execution_count": 53,
   "metadata": {},
   "outputs": [],
   "source": [
    "directions = {'processor_score': 'max', 'ram_gb': 'max', 'ram_type_score': 'max', 'disk': 'max',\n",
    " 'graphic_card_gb': 'max', 'weight': 'min', 'display_size': 'max', 'warranty': 'max', 'old_price': 'min'}\n",
    "weights = {'processor_score': 0.4, 'ram_gb': 0.25, 'ram_type_score': 0.05, 'disk': 0.1,\n",
    " 'graphic_card_gb': 0.05, 'weight': 0.05, 'display_size': 0.05, 'warranty': 0.025, 'old_price': 0.025}\n",
    "threshold = {'processor_score': 1, 'ram_gb': 8, 'ram_type_score': 1, 'disk': 100,\n",
    " 'graphic_card_gb': 4, 'weight': 1, 'display_size': 2, 'warranty': 1, 'old_price': 500}\n",
    "veto = {'processor_score': 2, 'ram_gb': 8, 'ram_type_score': 1, 'disk': 200,\n",
    " 'graphic_card_gb': 8, 'weight': 1, 'display_size': 4, 'warranty': 1, 'old_price': 700}\n",
    "s = 0.8"
   ]
  },
  {
   "cell_type": "markdown",
   "metadata": {},
   "source": [
    "# Pareto"
   ]
  },
  {
   "cell_type": "code",
   "execution_count": 54,
   "metadata": {},
   "outputs": [
    {
     "name": "stdout",
     "output_type": "stream",
     "text": [
      "Pareto Optimal Rows:\n",
      "['APPLE-2020-1', 'MSI-Modern', 'APPLE-MacBook-1', 'ASUS-TUF', 'APPLE-2020-2', 'HP-Ryzen', 'APPLE-MacBook-2', 'MSI-Alpha', 'ASUS-ROG-1', 'APPLE-MacBook-3', 'APPLE-MacBook-4', 'HP-Pavilion', 'acer-Predator', 'ASUS-ROG-2']\n",
      "Weak Pareto Optimal Rows:\n",
      "['APPLE-2020-1', 'MSI-Modern', 'APPLE-MacBook-1', 'ASUS-TUF', 'APPLE-2020-2', 'HP-Ryzen', 'APPLE-MacBook-2', 'MSI-Alpha', 'ASUS-ROG-1', 'APPLE-MacBook-3', 'APPLE-MacBook-4', 'HP-Pavilion', 'acer-Predator', 'ASUS-ROG-2']\n"
     ]
    }
   ],
   "source": [
    "pareto_optimal_rows, weak_pareto_optimal_rows = pareto_optimal_options(df, directions)\n",
    "print(\"Pareto Optimal Rows:\")\n",
    "print(pareto_optimal_rows)\n",
    "print(\"Weak Pareto Optimal Rows:\")\n",
    "print(weak_pareto_optimal_rows)"
   ]
  },
  {
   "cell_type": "markdown",
   "metadata": {},
   "source": [
    "# Weighted Sum"
   ]
  },
  {
   "cell_type": "code",
   "execution_count": 55,
   "metadata": {},
   "outputs": [
    {
     "name": "stdout",
     "output_type": "stream",
     "text": [
      "[0.39237967914438504, 0.181831855271753, 0.662153043035396, 0.4111274509803922, 0.41616373822256175, 0.048550724637681154, 0.6314935064935066, 0.7522383498854088, 0.47165742186202547, 0.47881970970206267, 0.725, 0.6687458619811563, 0.5940266106442577, 0.15397504456327984]\n",
      "['MSI-Alpha', 'APPLE-MacBook-4', 'HP-Pavilion', 'APPLE-MacBook-1', 'APPLE-MacBook-2', 'acer-Predator', 'APPLE-MacBook-3', 'ASUS-ROG-1', 'APPLE-2020-2', 'ASUS-TUF', 'APPLE-2020-1', 'MSI-Modern', 'ASUS-ROG-2', 'HP-Ryzen']\n"
     ]
    }
   ],
   "source": [
    "normalized_data = normalize_data(df)\n",
    "weighted_sum_data = weighted_sum(normalized_data, weights, directions)\n",
    "print(weighted_sum_data)\n",
    "print(get_ranking(df, weighted_sum_data))"
   ]
  },
  {
   "cell_type": "markdown",
   "metadata": {},
   "source": [
    "# Promethee"
   ]
  },
  {
   "cell_type": "code",
   "execution_count": 56,
   "metadata": {},
   "outputs": [],
   "source": [
    "pref_matrix_example = preference_degree(df, directions, weights, threshold)\n",
    "phi_plus, phi_minus,  phi_plus_ranking, phi_minus_ranking = \\\n",
    "    promethee1(pref_matrix_example, df)\n",
    "phi_net, phi_net_ranking = promethee2(phi_plus, phi_minus, df)"
   ]
  },
  {
   "cell_type": "markdown",
   "metadata": {},
   "source": [
    "### Promethee 1"
   ]
  },
  {
   "cell_type": "code",
   "execution_count": 57,
   "metadata": {},
   "outputs": [
    {
     "name": "stdout",
     "output_type": "stream",
     "text": [
      "Phi Plus:\n",
      "[1.8052019862490452, 0.3916624616645078, 2.024424306086071, 0.6860349074412373, 1.8057022281639927, 0.39670715226802167, 2.0237736822001526, 1.7182868873240995, 1.8180731695840389, 1.8123409727527373, 2.031083333333333, 1.6367497470134298, 1.2710054956765313, 0.35800433066507237]\n",
      "Phi Minus:\n",
      "[0.49826979716787895, 2.6833766261445287, 0.27570512948262305, 3.2858844474153295, 0.49437075209530446, 4.578373188405796, 0.27964630595321127, 0.5551386554621848, 1.0732855515328659, 0.49178846281595634, 0.27313777526821, 0.5702059714795008, 1.2809138591800358, 3.438954138018844]\n",
      "Phi Plus Ranking:\n",
      "['APPLE-MacBook-4', 'APPLE-MacBook-1', 'APPLE-MacBook-2', 'ASUS-ROG-1', 'APPLE-MacBook-3', 'APPLE-2020-2', 'APPLE-2020-1', 'MSI-Alpha', 'HP-Pavilion', 'acer-Predator', 'ASUS-TUF', 'HP-Ryzen', 'MSI-Modern', 'ASUS-ROG-2']\n",
      "Phi Minus Ranking:\n",
      "['APPLE-MacBook-4', 'APPLE-MacBook-1', 'APPLE-MacBook-2', 'APPLE-MacBook-3', 'APPLE-2020-2', 'APPLE-2020-1', 'MSI-Alpha', 'HP-Pavilion', 'ASUS-ROG-1', 'acer-Predator', 'MSI-Modern', 'ASUS-TUF', 'ASUS-ROG-2', 'HP-Ryzen']\n"
     ]
    }
   ],
   "source": [
    "print(\"Phi Plus:\")\n",
    "print(phi_plus)\n",
    "print(\"Phi Minus:\")\n",
    "print(phi_minus)\n",
    "print(\"Phi Plus Ranking:\")\n",
    "print(phi_plus_ranking)\n",
    "print(\"Phi Minus Ranking:\")\n",
    "print(phi_minus_ranking)"
   ]
  },
  {
   "cell_type": "markdown",
   "metadata": {},
   "source": [
    "### Promethee 2"
   ]
  },
  {
   "cell_type": "code",
   "execution_count": 58,
   "metadata": {},
   "outputs": [
    {
     "name": "stdout",
     "output_type": "stream",
     "text": [
      "Phi Net:\n",
      "[1.3069321890811663, -2.291714164480021, 1.7487191766034478, -2.599849539974092, 1.3113314760686883, -4.181666036137774, 1.7441273762469414, 1.1631482318619146, 0.744787618051173, 1.320552509936781, 1.757945558065123, 1.0665437755339289, -0.009908363503504436, -3.0809498073537718]\n",
      "Phi Net Ranking:\n",
      "['APPLE-MacBook-4', 'APPLE-MacBook-1', 'APPLE-MacBook-2', 'APPLE-MacBook-3', 'APPLE-2020-2', 'APPLE-2020-1', 'MSI-Alpha', 'HP-Pavilion', 'ASUS-ROG-1', 'acer-Predator', 'MSI-Modern', 'ASUS-TUF', 'ASUS-ROG-2', 'HP-Ryzen']\n"
     ]
    }
   ],
   "source": [
    "print(\"Phi Net:\")\n",
    "print(phi_net)\n",
    "print(\"Phi Net Ranking:\")\n",
    "print(phi_net_ranking)"
   ]
  },
  {
   "cell_type": "markdown",
   "metadata": {},
   "source": [
    "# Electre"
   ]
  },
  {
   "cell_type": "markdown",
   "metadata": {},
   "source": [
    "### Electre IV"
   ]
  },
  {
   "cell_type": "code",
   "execution_count": 59,
   "metadata": {},
   "outputs": [
    {
     "name": "stdout",
     "output_type": "stream",
     "text": [
      "['ASUS-ROG-1']\n"
     ]
    }
   ],
   "source": [
    "concordance_matrix_data = concordance_matrix(df, directions, weights, threshold, 'electre_iv')\n",
    "veto_matrix = not_veto_matrix(df, directions, veto)\n",
    "print(electre(df, veto_matrix, concordance_matrix_data, s))"
   ]
  },
  {
   "cell_type": "markdown",
   "metadata": {},
   "source": [
    "### Electre IS"
   ]
  },
  {
   "cell_type": "code",
   "execution_count": 66,
   "metadata": {},
   "outputs": [
    {
     "name": "stdout",
     "output_type": "stream",
     "text": [
      "['ASUS-ROG-1']\n"
     ]
    }
   ],
   "source": [
    "s = 0.8\n",
    "concordance_matrix_data = concordance_matrix(df, directions, weights, threshold, 'electre_is')\n",
    "veto_matrix = not_veto_matrix(df, directions, veto)\n",
    "print(electre(df, veto_matrix, concordance_matrix_data, s))"
   ]
  }
 ],
 "metadata": {
  "kernelspec": {
   "display_name": "Python 3.9.13 64-bit (microsoft store)",
   "language": "python",
   "name": "python3"
  },
  "language_info": {
   "codemirror_mode": {
    "name": "ipython",
    "version": 3
   },
   "file_extension": ".py",
   "mimetype": "text/x-python",
   "name": "python",
   "nbconvert_exporter": "python",
   "pygments_lexer": "ipython3",
   "version": "3.10.11"
  },
  "orig_nbformat": 4,
  "vscode": {
   "interpreter": {
    "hash": "af16f5a6d4b5c7b0a5c561ae5d528cd2e61193f10b07017e477a95c8ee5d5d82"
   }
  }
 },
 "nbformat": 4,
 "nbformat_minor": 2
}
